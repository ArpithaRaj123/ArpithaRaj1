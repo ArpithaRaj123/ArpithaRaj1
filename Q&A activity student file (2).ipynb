{
 "cells": [
  {
   "cell_type": "markdown",
   "metadata": {
    "id": "4z_Z-K1tlrS7"
   },
   "source": [
    "## 1. Complete the following code to find the area of an equilateral triangle. Output should be as displayed"
   ]
  },
  {
   "cell_type": "code",
   "execution_count": 1,
   "metadata": {
    "id": "rP2qFD_SlrS_"
   },
   "outputs": [
    {
     "name": "stdout",
     "output_type": "stream",
     "text": [
      "Enter the side of the equilateral triangle: 6\n",
      "Area of Equilateral Triangle 15.588457268119894\n"
     ]
    }
   ],
   "source": [
    "import math\n",
    "side = float(input(\"Enter the side of the equilateral triangle: \"))\n",
    "area = ((math.sqrt(3))/4)*pow(side,2)\n",
    "print('Area of Equilateral Triangle',area)"
   ]
  },
  {
   "cell_type": "markdown",
   "metadata": {
    "id": "TjVKjIfclrTB"
   },
   "source": [
    "## 2. Write a program to count the number of each characters in a string"
   ]
  },
  {
   "cell_type": "code",
   "execution_count": 2,
   "metadata": {
    "id": "JY5seVUQlrTC"
   },
   "outputs": [
    {
     "name": "stdout",
     "output_type": "stream",
     "text": [
      "Enter the name :arpitha\n",
      "Count of characters in the name arpitha : {'a': 2, 'r': 1, 'p': 1, 'i': 1, 't': 1, 'h': 1}\n"
     ]
    }
   ],
   "source": [
    "name=input('Enter the name :')\n",
    "count={}\n",
    "for i in name:\n",
    "    if i in count:\n",
    "        count[i]+=1\n",
    "    else:\n",
    "        count[i]=1\n",
    "print('Count of characters in the name',name,':',count)\n"
   ]
  },
  {
   "cell_type": "markdown",
   "metadata": {
    "id": "l3LCULfklrTD"
   },
   "source": [
    "## Write a program to find the area and perimeter of a rectangle using functions"
   ]
  },
  {
   "cell_type": "code",
   "execution_count": 3,
   "metadata": {
    "id": "8haQD8edlrTD"
   },
   "outputs": [
    {
     "name": "stdout",
     "output_type": "stream",
     "text": [
      "Enter the length of the rectangle :100\n",
      "Enter the breadth of the rectangle :10\n",
      "Area of the rectangle is : 1000.0\n",
      "Perimeter of the rectangle is : 220.0\n"
     ]
    }
   ],
   "source": [
    "def rectangle(length,breadth):\n",
    "    area=length*breadth\n",
    "    print('Area of the rectangle is :',area)\n",
    "    \n",
    "    perimeter=2*(length+breadth)\n",
    "    print('Perimeter of the rectangle is :',perimeter)\n",
    "    \n",
    "length=float(input('Enter the length of the rectangle :'))\n",
    "breadth=float(input('Enter the breadth of the rectangle :'))\n",
    "\n",
    "rectangle(length,breadth)"
   ]
  },
  {
   "cell_type": "markdown",
   "metadata": {
    "id": "JHK4ZdsflrTE"
   },
   "source": [
    "## 4. Write a program to print the fibonacci series till a specified number"
   ]
  },
  {
   "cell_type": "code",
   "execution_count": 2,
   "metadata": {
    "id": "LyBEj-4SlrTE"
   },
   "outputs": [
    {
     "name": "stdout",
     "output_type": "stream",
     "text": [
      "Enter the value of n :5\n",
      "Fibanacci Series :\n",
      "0\n",
      "1\n",
      "1\n",
      "2\n",
      "3\n"
     ]
    }
   ],
   "source": [
    "n=int(input(\"Enter the value of n :\"))\n",
    "a=0\n",
    "b=1\n",
    "sum=0\n",
    "count=1\n",
    "print(\"Fibanacci Series :\")\n",
    "while (count<=n):\n",
    "    print(sum)\n",
    "    count+=1\n",
    "    a=b\n",
    "    b=sum\n",
    "    sum=a+b"
   ]
  },
  {
   "cell_type": "markdown",
   "metadata": {
    "id": "u4uBUcQKlrTE"
   },
   "source": [
    "## 5. Complete the following code to find the minimum of 3 number using cinditional statements. Output should be as displayed"
   ]
  },
  {
   "cell_type": "code",
   "execution_count": 5,
   "metadata": {
    "id": "XdZwrZjIlrTF"
   },
   "outputs": [
    {
     "name": "stdout",
     "output_type": "stream",
     "text": [
      "Enter three numbers followed by  : 3 5 1\n",
      "First number : 3\n",
      "Second number : 5\n",
      "Third number : 1\n",
      "1  is smallest\n"
     ]
    }
   ],
   "source": [
    "a,b,c = input(\"Enter three numbers followed by  : \").split()\n",
    "\n",
    "print(\"First number :\",a)\n",
    "print(\"Second number :\",b)\n",
    "print(\"Third number :\",c)\n",
    "\n",
    "if a==b and b==c:\n",
    "    print(\"Entered numbers are equal!!!\")\n",
    "    \n",
    "elif a<b and a<c: \n",
    "     print(a,\" is smallest\")\n",
    "        \n",
    "elif b<a and b<c:\n",
    "    print(b,\" is smallest\")\n",
    "    \n",
    "else:\n",
    "    print(c,\" is smallest\")       "
   ]
  },
  {
   "cell_type": "markdown",
   "metadata": {
    "id": "aR_CnToWlrTG"
   },
   "source": [
    "## 6. Write a program to print star pyramind. The number of rows should be taken as input from the user"
   ]
  },
  {
   "cell_type": "code",
   "execution_count": 6,
   "metadata": {
    "id": "M37A-buplrTG"
   },
   "outputs": [
    {
     "name": "stdout",
     "output_type": "stream",
     "text": [
      "Enter number of rows: 5\n",
      "        * \n",
      "      * * * \n",
      "    * * * * * \n",
      "  * * * * * * * \n",
      "* * * * * * * * * \n"
     ]
    }
   ],
   "source": [
    "rows = int(input(\"Enter number of rows: \"))\n",
    "a=0\n",
    "\n",
    "for i in range(1,rows+1):\n",
    "    for j in range(1,(rows-i)+1):\n",
    "        print(end=\"  \")\n",
    "   \n",
    "    while a!=(2*i-1):\n",
    "        print(\"* \",end=\"\")\n",
    "        a+= 1\n",
    "   \n",
    "    a=0\n",
    "    print()"
   ]
  },
  {
   "cell_type": "markdown",
   "metadata": {
    "id": "tlY6aFWBlrTH"
   },
   "source": [
    "## 7. Complete the following code to convert hour into seconds. Output should be as displayed"
   ]
  },
  {
   "cell_type": "code",
   "execution_count": 7,
   "metadata": {
    "id": "YOZQFk7FlrTH"
   },
   "outputs": [
    {
     "name": "stdout",
     "output_type": "stream",
     "text": [
      "Enter the hours :1\n",
      "1  Hour is equal to 3600  Seconds\n"
     ]
    }
   ],
   "source": [
    "def to_seconds(t):\n",
    "    t=t*(60*60)\n",
    "    return t\n",
    "\n",
    "time_in_hours =int(input('Enter the hours :'))\n",
    "\n",
    "print(time_in_hours ,\" Hour is equal to\" ,to_seconds(time_in_hours) ,\" Seconds\")"
   ]
  },
  {
   "cell_type": "markdown",
   "metadata": {
    "id": "CnYorNiLlrTI"
   },
   "source": [
    "## 8. Write a program to print multiplication table as below"
   ]
  },
  {
   "cell_type": "code",
   "execution_count": 3,
   "metadata": {
    "id": "dPQqDPuDlrTI"
   },
   "outputs": [
    {
     "name": "stdout",
     "output_type": "stream",
     "text": [
      "Enter the Number :7\n",
      "Enter the limit :10\n",
      "The multiplication table for 7\n",
      "7 * 1 = 7\n",
      "7 * 2 = 14\n",
      "7 * 3 = 21\n",
      "7 * 4 = 28\n",
      "7 * 5 = 35\n",
      "7 * 6 = 42\n",
      "7 * 7 = 49\n",
      "7 * 8 = 56\n",
      "7 * 9 = 63\n",
      "7 * 10 = 70\n"
     ]
    }
   ],
   "source": [
    "number=int(input('Enter the Number :'))\n",
    "l=int(input('Enter the limit :'))\n",
    "print('The multiplication table for',number)\n",
    "for i in range(1,l+1):\n",
    "    print(number,'*',i,'=',number*i)\n"
   ]
  },
  {
   "cell_type": "markdown",
   "metadata": {
    "id": "Fiaez8iblrTI"
   },
   "source": [
    "## 9. Write a program to take your 5 favorite food as list and print each as 'I like Biriyani'"
   ]
  },
  {
   "cell_type": "code",
   "execution_count": 9,
   "metadata": {
    "id": "39W1zFX7lrTJ"
   },
   "outputs": [
    {
     "name": "stdout",
     "output_type": "stream",
     "text": [
      "Enter your 5 favorite foods :\n",
      "pizza\n",
      "sandwich\n",
      "burger\n",
      "biriyani\n",
      "cutlet\n",
      " I like  pizza\n",
      " I like  sandwich\n",
      " I like  burger\n",
      " I like  biriyani\n",
      " I like  cutlet\n"
     ]
    }
   ],
   "source": [
    "list=[]\n",
    "print(\"Enter your 5 favorite foods :\")\n",
    "for i in range(0,5):\n",
    "    food=str(input())\n",
    "    \n",
    "    list.append(food)\n",
    "print(\" I like \",list[0])\n",
    "print(\" I like \",list[1])\n",
    "print(\" I like \",list[2])\n",
    "print(\" I like \",list[3])\n",
    "print(\" I like \",list[4])"
   ]
  },
  {
   "cell_type": "markdown",
   "metadata": {
    "id": "3vlcDNNEP7d_"
   },
   "source": [
    "## 10. Find error(s) in the following code(if any) and rewrite code.\n",
    "\n"
   ]
  },
  {
   "cell_type": "code",
   "execution_count": null,
   "metadata": {
    "id": "coREkcY3P9sG"
   },
   "outputs": [],
   "source": [
    "x= int(“Enter value of x:”)\n",
    "for in range [0,10]:\n",
    "     if x=y\n",
    "          print(\"They are equal\")\n",
    "     else:\n",
    "         Print( \"They are unequal\")"
   ]
  },
  {
   "cell_type": "code",
   "execution_count": 4,
   "metadata": {},
   "outputs": [
    {
     "name": "stdout",
     "output_type": "stream",
     "text": [
      "Enter value of x:5\n",
      "5 and 0 are unequal\n",
      "5 and 1 are unequal\n",
      "5 and 2 are unequal\n",
      "5 and 3 are unequal\n",
      "5 and 4 are unequal\n",
      "5 and 5 are equal\n"
     ]
    }
   ],
   "source": [
    "#ANSWER FOR THE 10TH QUESTION\n",
    "x=int(input(\"Enter value of x:\"))\n",
    "for y in range(0,10):\n",
    "    if x==y:\n",
    "        print(x,\"and\",y,\"are equal\")\n",
    "        break\n",
    "    else:\n",
    "        print(x,\"and\",y,\"are unequal\")"
   ]
  },
  {
   "cell_type": "code",
   "execution_count": null,
   "metadata": {},
   "outputs": [],
   "source": []
  }
 ],
 "metadata": {
  "colab": {
   "collapsed_sections": [],
   "name": "Q&A activity student file.ipynb",
   "provenance": []
  },
  "kernelspec": {
   "display_name": "Python 3",
   "language": "python",
   "name": "python3"
  },
  "language_info": {
   "codemirror_mode": {
    "name": "ipython",
    "version": 3
   },
   "file_extension": ".py",
   "mimetype": "text/x-python",
   "name": "python",
   "nbconvert_exporter": "python",
   "pygments_lexer": "ipython3",
   "version": "3.8.8"
  }
 },
 "nbformat": 4,
 "nbformat_minor": 1
}
